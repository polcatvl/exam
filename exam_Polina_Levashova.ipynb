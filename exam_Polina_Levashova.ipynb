{
 "cells": [
  {
   "cell_type": "code",
   "execution_count": 2,
   "id": "23f68a66",
   "metadata": {},
   "outputs": [],
   "source": [
    "import numpy as np\n",
    "import pandas as pd\n",
    "import yfinance as yf\n",
    "import matplotlib.pyplot as plt\n"
   ]
  },
  {
   "cell_type": "code",
   "execution_count": 3,
   "id": "ef00497c",
   "metadata": {},
   "outputs": [
    {
     "data": {
      "text/html": [
       "<div>\n",
       "<style scoped>\n",
       "    .dataframe tbody tr th:only-of-type {\n",
       "        vertical-align: middle;\n",
       "    }\n",
       "\n",
       "    .dataframe tbody tr th {\n",
       "        vertical-align: top;\n",
       "    }\n",
       "\n",
       "    .dataframe thead th {\n",
       "        text-align: right;\n",
       "    }\n",
       "</style>\n",
       "<table border=\"1\" class=\"dataframe\">\n",
       "  <thead>\n",
       "    <tr style=\"text-align: right;\">\n",
       "      <th></th>\n",
       "      <th>Date</th>\n",
       "      <th>High</th>\n",
       "      <th>Low</th>\n",
       "      <th>Open</th>\n",
       "      <th>Close</th>\n",
       "      <th>Volume</th>\n",
       "      <th>Adj Close</th>\n",
       "    </tr>\n",
       "  </thead>\n",
       "  <tbody>\n",
       "    <tr>\n",
       "      <th>0</th>\n",
       "      <td>2017-11-13</td>\n",
       "      <td>102.510002</td>\n",
       "      <td>100.120003</td>\n",
       "      <td>101.889999</td>\n",
       "      <td>102.370003</td>\n",
       "      <td>274300</td>\n",
       "      <td>102.370003</td>\n",
       "    </tr>\n",
       "    <tr>\n",
       "      <th>1</th>\n",
       "      <td>2017-11-14</td>\n",
       "      <td>103.070000</td>\n",
       "      <td>101.510002</td>\n",
       "      <td>101.800003</td>\n",
       "      <td>102.610001</td>\n",
       "      <td>178200</td>\n",
       "      <td>102.610001</td>\n",
       "    </tr>\n",
       "    <tr>\n",
       "      <th>2</th>\n",
       "      <td>2017-11-15</td>\n",
       "      <td>103.389999</td>\n",
       "      <td>100.879997</td>\n",
       "      <td>102.709999</td>\n",
       "      <td>102.629997</td>\n",
       "      <td>246600</td>\n",
       "      <td>102.629997</td>\n",
       "    </tr>\n",
       "    <tr>\n",
       "      <th>3</th>\n",
       "      <td>2017-11-16</td>\n",
       "      <td>104.320000</td>\n",
       "      <td>103.160004</td>\n",
       "      <td>103.230003</td>\n",
       "      <td>103.610001</td>\n",
       "      <td>211100</td>\n",
       "      <td>103.610001</td>\n",
       "    </tr>\n",
       "    <tr>\n",
       "      <th>4</th>\n",
       "      <td>2017-11-17</td>\n",
       "      <td>104.209999</td>\n",
       "      <td>102.489998</td>\n",
       "      <td>103.160004</td>\n",
       "      <td>103.699997</td>\n",
       "      <td>183400</td>\n",
       "      <td>103.699997</td>\n",
       "    </tr>\n",
       "  </tbody>\n",
       "</table>\n",
       "</div>"
      ],
      "text/plain": [
       "         Date        High         Low        Open       Close  Volume  \\\n",
       "0  2017-11-13  102.510002  100.120003  101.889999  102.370003  274300   \n",
       "1  2017-11-14  103.070000  101.510002  101.800003  102.610001  178200   \n",
       "2  2017-11-15  103.389999  100.879997  102.709999  102.629997  246600   \n",
       "3  2017-11-16  104.320000  103.160004  103.230003  103.610001  211100   \n",
       "4  2017-11-17  104.209999  102.489998  103.160004  103.699997  183400   \n",
       "\n",
       "    Adj Close  \n",
       "0  102.370003  \n",
       "1  102.610001  \n",
       "2  102.629997  \n",
       "3  103.610001  \n",
       "4  103.699997  "
      ]
     },
     "execution_count": 3,
     "metadata": {},
     "output_type": "execute_result"
    }
   ],
   "source": [
    "df1 = pd.read_csv('EPAM.csv')\n",
    "df1.head()"
   ]
  },
  {
   "cell_type": "code",
   "execution_count": 13,
   "id": "7263de0d",
   "metadata": {},
   "outputs": [
    {
     "data": {
      "text/plain": [
       "1259"
      ]
     },
     "execution_count": 13,
     "metadata": {},
     "output_type": "execute_result"
    }
   ],
   "source": [
    "df2 = pd.read_csv('HON.csv')\n",
    "df3 = pd.read_csv('JCI.csv')\n",
    "df4 = pd.read_csv('SCHW.csv')\n",
    "df1['company'] = 'EPAM'\n",
    "df2['company'] = 'HON'\n",
    "df3['company'] = 'JCI'\n",
    "df4['company'] = 'SCHW'\n"
   ]
  },
  {
   "cell_type": "markdown",
   "id": "d8599aea",
   "metadata": {},
   "source": [
    "# concatenating\n"
   ]
  },
  {
   "cell_type": "code",
   "execution_count": 14,
   "id": "d3ed7fcb",
   "metadata": {},
   "outputs": [
    {
     "data": {
      "text/html": [
       "<div>\n",
       "<style scoped>\n",
       "    .dataframe tbody tr th:only-of-type {\n",
       "        vertical-align: middle;\n",
       "    }\n",
       "\n",
       "    .dataframe tbody tr th {\n",
       "        vertical-align: top;\n",
       "    }\n",
       "\n",
       "    .dataframe thead th {\n",
       "        text-align: right;\n",
       "    }\n",
       "</style>\n",
       "<table border=\"1\" class=\"dataframe\">\n",
       "  <thead>\n",
       "    <tr style=\"text-align: right;\">\n",
       "      <th></th>\n",
       "      <th>Date</th>\n",
       "      <th>High</th>\n",
       "      <th>Low</th>\n",
       "      <th>Open</th>\n",
       "      <th>Close</th>\n",
       "      <th>Volume</th>\n",
       "      <th>Adj Close</th>\n",
       "      <th>company</th>\n",
       "    </tr>\n",
       "  </thead>\n",
       "  <tbody>\n",
       "    <tr>\n",
       "      <th>0</th>\n",
       "      <td>2017-11-13</td>\n",
       "      <td>102.510002</td>\n",
       "      <td>100.120003</td>\n",
       "      <td>101.889999</td>\n",
       "      <td>102.370003</td>\n",
       "      <td>274300.0</td>\n",
       "      <td>102.370003</td>\n",
       "      <td>EPAM</td>\n",
       "    </tr>\n",
       "    <tr>\n",
       "      <th>1</th>\n",
       "      <td>2017-11-14</td>\n",
       "      <td>103.070000</td>\n",
       "      <td>101.510002</td>\n",
       "      <td>101.800003</td>\n",
       "      <td>102.610001</td>\n",
       "      <td>178200.0</td>\n",
       "      <td>102.610001</td>\n",
       "      <td>EPAM</td>\n",
       "    </tr>\n",
       "    <tr>\n",
       "      <th>2</th>\n",
       "      <td>2017-11-15</td>\n",
       "      <td>103.389999</td>\n",
       "      <td>100.879997</td>\n",
       "      <td>102.709999</td>\n",
       "      <td>102.629997</td>\n",
       "      <td>246600.0</td>\n",
       "      <td>102.629997</td>\n",
       "      <td>EPAM</td>\n",
       "    </tr>\n",
       "    <tr>\n",
       "      <th>3</th>\n",
       "      <td>2017-11-16</td>\n",
       "      <td>104.320000</td>\n",
       "      <td>103.160004</td>\n",
       "      <td>103.230003</td>\n",
       "      <td>103.610001</td>\n",
       "      <td>211100.0</td>\n",
       "      <td>103.610001</td>\n",
       "      <td>EPAM</td>\n",
       "    </tr>\n",
       "    <tr>\n",
       "      <th>4</th>\n",
       "      <td>2017-11-17</td>\n",
       "      <td>104.209999</td>\n",
       "      <td>102.489998</td>\n",
       "      <td>103.160004</td>\n",
       "      <td>103.699997</td>\n",
       "      <td>183400.0</td>\n",
       "      <td>103.699997</td>\n",
       "      <td>EPAM</td>\n",
       "    </tr>\n",
       "  </tbody>\n",
       "</table>\n",
       "</div>"
      ],
      "text/plain": [
       "         Date        High         Low        Open       Close    Volume  \\\n",
       "0  2017-11-13  102.510002  100.120003  101.889999  102.370003  274300.0   \n",
       "1  2017-11-14  103.070000  101.510002  101.800003  102.610001  178200.0   \n",
       "2  2017-11-15  103.389999  100.879997  102.709999  102.629997  246600.0   \n",
       "3  2017-11-16  104.320000  103.160004  103.230003  103.610001  211100.0   \n",
       "4  2017-11-17  104.209999  102.489998  103.160004  103.699997  183400.0   \n",
       "\n",
       "    Adj Close company  \n",
       "0  102.370003    EPAM  \n",
       "1  102.610001    EPAM  \n",
       "2  102.629997    EPAM  \n",
       "3  103.610001    EPAM  \n",
       "4  103.699997    EPAM  "
      ]
     },
     "execution_count": 14,
     "metadata": {},
     "output_type": "execute_result"
    }
   ],
   "source": [
    "df = pd.concat([df1, df2, df3, df4], axis = 0)\n",
    "df.head()"
   ]
  },
  {
   "cell_type": "markdown",
   "id": "041d9b23",
   "metadata": {},
   "source": [
    "# 1)"
   ]
  },
  {
   "cell_type": "code",
   "execution_count": 21,
   "id": "41a55f66",
   "metadata": {},
   "outputs": [
    {
     "data": {
      "text/plain": [
       "EPAM    1259\n",
       "JCI      228\n",
       "HON      182\n",
       "SCHW       3\n",
       "Name: company, dtype: int64"
      ]
     },
     "execution_count": 21,
     "metadata": {},
     "output_type": "execute_result"
    }
   ],
   "source": [
    "ser = df[(df['Close']-df['Adj Close']) == 0].company\n",
    "ser.value_counts()\n"
   ]
  },
  {
   "cell_type": "code",
   "execution_count": 22,
   "id": "1103bec3",
   "metadata": {},
   "outputs": [
    {
     "data": {
      "text/plain": [
       "1259"
      ]
     },
     "execution_count": 22,
     "metadata": {},
     "output_type": "execute_result"
    }
   ],
   "source": [
    "len(df1['company'])"
   ]
  },
  {
   "cell_type": "markdown",
   "id": "e52bfdf5",
   "metadata": {},
   "source": [
    "## len(df1['company']) is equal to the number this company appears in value counts, thus company with ticker EPAM has their closing prices equal to true prices. It means that true value of a stock is reflected in closing price\n"
   ]
  },
  {
   "cell_type": "markdown",
   "id": "aaa44930",
   "metadata": {},
   "source": [
    "# 2)"
   ]
  },
  {
   "cell_type": "code",
   "execution_count": 25,
   "id": "a452de74",
   "metadata": {},
   "outputs": [
    {
     "data": {
      "text/plain": [
       "717.489990234375"
      ]
     },
     "execution_count": 25,
     "metadata": {},
     "output_type": "execute_result"
    }
   ],
   "source": [
    "\n",
    "df[df['company'] == 'EPAM']['Adj Close'].max()"
   ]
  },
  {
   "cell_type": "code",
   "execution_count": 34,
   "id": "96819366",
   "metadata": {},
   "outputs": [
    {
     "data": {
      "text/plain": [
       "231.4597625732422"
      ]
     },
     "execution_count": 34,
     "metadata": {},
     "output_type": "execute_result"
    }
   ],
   "source": [
    "df[df['company'] == 'HON']['Adj Close'].max()"
   ]
  },
  {
   "cell_type": "code",
   "execution_count": 33,
   "id": "abea13d1",
   "metadata": {},
   "outputs": [
    {
     "data": {
      "text/plain": [
       "81.30999755859375"
      ]
     },
     "execution_count": 33,
     "metadata": {},
     "output_type": "execute_result"
    }
   ],
   "source": [
    "df[df['company'] == 'JCI']['Adj Close'].max()\n"
   ]
  },
  {
   "cell_type": "code",
   "execution_count": 32,
   "id": "c1d851bd",
   "metadata": {},
   "outputs": [
    {
     "data": {
      "text/plain": [
       "94.47440338134766"
      ]
     },
     "execution_count": 32,
     "metadata": {},
     "output_type": "execute_result"
    }
   ],
   "source": [
    "df[df['company'] == 'SCHW']['Adj Close'].max()\n"
   ]
  },
  {
   "cell_type": "markdown",
   "id": "9f6ca751",
   "metadata": {},
   "source": [
    "# 3)"
   ]
  },
  {
   "cell_type": "code",
   "execution_count": 30,
   "id": "809c5f4b",
   "metadata": {},
   "outputs": [
    {
     "data": {
      "text/html": [
       "<div>\n",
       "<style scoped>\n",
       "    .dataframe tbody tr th:only-of-type {\n",
       "        vertical-align: middle;\n",
       "    }\n",
       "\n",
       "    .dataframe tbody tr th {\n",
       "        vertical-align: top;\n",
       "    }\n",
       "\n",
       "    .dataframe thead th {\n",
       "        text-align: right;\n",
       "    }\n",
       "</style>\n",
       "<table border=\"1\" class=\"dataframe\">\n",
       "  <thead>\n",
       "    <tr style=\"text-align: right;\">\n",
       "      <th></th>\n",
       "      <th>Date</th>\n",
       "      <th>High</th>\n",
       "      <th>Low</th>\n",
       "      <th>Open</th>\n",
       "      <th>Close</th>\n",
       "      <th>Volume</th>\n",
       "      <th>Adj Close</th>\n",
       "      <th>company</th>\n",
       "    </tr>\n",
       "  </thead>\n",
       "  <tbody>\n",
       "    <tr>\n",
       "      <th>0</th>\n",
       "      <td>2017-11-13</td>\n",
       "      <td>102.510002</td>\n",
       "      <td>100.120003</td>\n",
       "      <td>101.889999</td>\n",
       "      <td>102.370003</td>\n",
       "      <td>274300.0</td>\n",
       "      <td>102.370003</td>\n",
       "      <td>EPAM</td>\n",
       "    </tr>\n",
       "    <tr>\n",
       "      <th>1</th>\n",
       "      <td>2017-11-14</td>\n",
       "      <td>103.070000</td>\n",
       "      <td>101.510002</td>\n",
       "      <td>101.800003</td>\n",
       "      <td>102.610001</td>\n",
       "      <td>178200.0</td>\n",
       "      <td>102.610001</td>\n",
       "      <td>EPAM</td>\n",
       "    </tr>\n",
       "    <tr>\n",
       "      <th>2</th>\n",
       "      <td>2017-11-15</td>\n",
       "      <td>103.389999</td>\n",
       "      <td>100.879997</td>\n",
       "      <td>102.709999</td>\n",
       "      <td>102.629997</td>\n",
       "      <td>246600.0</td>\n",
       "      <td>102.629997</td>\n",
       "      <td>EPAM</td>\n",
       "    </tr>\n",
       "    <tr>\n",
       "      <th>3</th>\n",
       "      <td>2017-11-16</td>\n",
       "      <td>104.320000</td>\n",
       "      <td>103.160004</td>\n",
       "      <td>103.230003</td>\n",
       "      <td>103.610001</td>\n",
       "      <td>211100.0</td>\n",
       "      <td>103.610001</td>\n",
       "      <td>EPAM</td>\n",
       "    </tr>\n",
       "    <tr>\n",
       "      <th>4</th>\n",
       "      <td>2017-11-17</td>\n",
       "      <td>104.209999</td>\n",
       "      <td>102.489998</td>\n",
       "      <td>103.160004</td>\n",
       "      <td>103.699997</td>\n",
       "      <td>183400.0</td>\n",
       "      <td>103.699997</td>\n",
       "      <td>EPAM</td>\n",
       "    </tr>\n",
       "  </tbody>\n",
       "</table>\n",
       "</div>"
      ],
      "text/plain": [
       "         Date        High         Low        Open       Close    Volume  \\\n",
       "0  2017-11-13  102.510002  100.120003  101.889999  102.370003  274300.0   \n",
       "1  2017-11-14  103.070000  101.510002  101.800003  102.610001  178200.0   \n",
       "2  2017-11-15  103.389999  100.879997  102.709999  102.629997  246600.0   \n",
       "3  2017-11-16  104.320000  103.160004  103.230003  103.610001  211100.0   \n",
       "4  2017-11-17  104.209999  102.489998  103.160004  103.699997  183400.0   \n",
       "\n",
       "    Adj Close company  \n",
       "0  102.370003    EPAM  \n",
       "1  102.610001    EPAM  \n",
       "2  102.629997    EPAM  \n",
       "3  103.610001    EPAM  \n",
       "4  103.699997    EPAM  "
      ]
     },
     "execution_count": 30,
     "metadata": {},
     "output_type": "execute_result"
    }
   ],
   "source": [
    "df.head()"
   ]
  },
  {
   "cell_type": "code",
   "execution_count": 45,
   "id": "146a65de",
   "metadata": {},
   "outputs": [
    {
     "data": {
      "text/html": [
       "<div>\n",
       "<style scoped>\n",
       "    .dataframe tbody tr th:only-of-type {\n",
       "        vertical-align: middle;\n",
       "    }\n",
       "\n",
       "    .dataframe tbody tr th {\n",
       "        vertical-align: top;\n",
       "    }\n",
       "\n",
       "    .dataframe thead th {\n",
       "        text-align: right;\n",
       "    }\n",
       "</style>\n",
       "<table border=\"1\" class=\"dataframe\">\n",
       "  <thead>\n",
       "    <tr style=\"text-align: right;\">\n",
       "      <th></th>\n",
       "      <th>Date</th>\n",
       "      <th>High</th>\n",
       "      <th>Low</th>\n",
       "      <th>Open</th>\n",
       "      <th>Close</th>\n",
       "      <th>Volume</th>\n",
       "      <th>Adj Close</th>\n",
       "      <th>company</th>\n",
       "      <th>log_return</th>\n",
       "      <th>gain%</th>\n",
       "      <th>return</th>\n",
       "    </tr>\n",
       "  </thead>\n",
       "  <tbody>\n",
       "    <tr>\n",
       "      <th>0</th>\n",
       "      <td>2017-11-13</td>\n",
       "      <td>102.510002</td>\n",
       "      <td>100.120003</td>\n",
       "      <td>101.889999</td>\n",
       "      <td>102.370003</td>\n",
       "      <td>274300.0</td>\n",
       "      <td>102.370003</td>\n",
       "      <td>EPAM</td>\n",
       "      <td>0.004700</td>\n",
       "      <td>0.004711</td>\n",
       "      <td>0.480003</td>\n",
       "    </tr>\n",
       "    <tr>\n",
       "      <th>1</th>\n",
       "      <td>2017-11-14</td>\n",
       "      <td>103.070000</td>\n",
       "      <td>101.510002</td>\n",
       "      <td>101.800003</td>\n",
       "      <td>102.610001</td>\n",
       "      <td>178200.0</td>\n",
       "      <td>102.610001</td>\n",
       "      <td>EPAM</td>\n",
       "      <td>0.007925</td>\n",
       "      <td>0.007957</td>\n",
       "      <td>0.809998</td>\n",
       "    </tr>\n",
       "    <tr>\n",
       "      <th>2</th>\n",
       "      <td>2017-11-15</td>\n",
       "      <td>103.389999</td>\n",
       "      <td>100.879997</td>\n",
       "      <td>102.709999</td>\n",
       "      <td>102.629997</td>\n",
       "      <td>246600.0</td>\n",
       "      <td>102.629997</td>\n",
       "      <td>EPAM</td>\n",
       "      <td>-0.000779</td>\n",
       "      <td>-0.000779</td>\n",
       "      <td>-0.080002</td>\n",
       "    </tr>\n",
       "    <tr>\n",
       "      <th>3</th>\n",
       "      <td>2017-11-16</td>\n",
       "      <td>104.320000</td>\n",
       "      <td>103.160004</td>\n",
       "      <td>103.230003</td>\n",
       "      <td>103.610001</td>\n",
       "      <td>211100.0</td>\n",
       "      <td>103.610001</td>\n",
       "      <td>EPAM</td>\n",
       "      <td>0.003674</td>\n",
       "      <td>0.003681</td>\n",
       "      <td>0.379997</td>\n",
       "    </tr>\n",
       "    <tr>\n",
       "      <th>4</th>\n",
       "      <td>2017-11-17</td>\n",
       "      <td>104.209999</td>\n",
       "      <td>102.489998</td>\n",
       "      <td>103.160004</td>\n",
       "      <td>103.699997</td>\n",
       "      <td>183400.0</td>\n",
       "      <td>103.699997</td>\n",
       "      <td>EPAM</td>\n",
       "      <td>0.005221</td>\n",
       "      <td>0.005235</td>\n",
       "      <td>0.539993</td>\n",
       "    </tr>\n",
       "  </tbody>\n",
       "</table>\n",
       "</div>"
      ],
      "text/plain": [
       "         Date        High         Low        Open       Close    Volume  \\\n",
       "0  2017-11-13  102.510002  100.120003  101.889999  102.370003  274300.0   \n",
       "1  2017-11-14  103.070000  101.510002  101.800003  102.610001  178200.0   \n",
       "2  2017-11-15  103.389999  100.879997  102.709999  102.629997  246600.0   \n",
       "3  2017-11-16  104.320000  103.160004  103.230003  103.610001  211100.0   \n",
       "4  2017-11-17  104.209999  102.489998  103.160004  103.699997  183400.0   \n",
       "\n",
       "    Adj Close company  log_return     gain%    return  \n",
       "0  102.370003    EPAM    0.004700  0.004711  0.480003  \n",
       "1  102.610001    EPAM    0.007925  0.007957  0.809998  \n",
       "2  102.629997    EPAM   -0.000779 -0.000779 -0.080002  \n",
       "3  103.610001    EPAM    0.003674  0.003681  0.379997  \n",
       "4  103.699997    EPAM    0.005221  0.005235  0.539993  "
      ]
     },
     "execution_count": 45,
     "metadata": {},
     "output_type": "execute_result"
    }
   ],
   "source": [
    "df['Close'] = df['Close'].astype(float)\n",
    "df['Open'] = df['Open'].astype(float)\n",
    "\n",
    "df['gain%'] = (df['Close'] - df['Open'])/df['Open']\n",
    "df['log_return'] = np.log(df['gain%'] + 1)\n",
    "df['return'] = df['Close'] - df['Open']\n",
    "\n",
    "df.head()\n"
   ]
  },
  {
   "cell_type": "markdown",
   "id": "b782ec76",
   "metadata": {},
   "source": [
    "# 4)"
   ]
  },
  {
   "cell_type": "code",
   "execution_count": 63,
   "id": "f61d5a39",
   "metadata": {},
   "outputs": [
    {
     "name": "stdout",
     "output_type": "stream",
     "text": [
      "            Date\n",
      "1091  2022-03-16             Date\n",
      "1079  2022-02-28\n"
     ]
    }
   ],
   "source": [
    "df_EPAM = df[df['company'] == 'EPAM']\n",
    "max_EPAM = df_EPAM[df_EPAM['log_return'] == df_EPAM['log_return'].max()][['Date']]\n",
    "min_EPAM = df_EPAM[df_EPAM['log_return'] == df_EPAM['log_return'].min()][['Date']]\n",
    "print(max_EPAM, min_EPAM)"
   ]
  },
  {
   "cell_type": "code",
   "execution_count": 64,
   "id": "91029400",
   "metadata": {},
   "outputs": [
    {
     "name": "stdout",
     "output_type": "stream",
     "text": [
      "           Date\n",
      "592  2020-03-24            Date\n",
      "590  2020-03-20\n"
     ]
    }
   ],
   "source": [
    "df_HON = df[df['company'] == 'HON']\n",
    "max_HON = df_HON[df_HON['log_return'] == df_HON['log_return'].max()][['Date']]\n",
    "min_HON = df_HON[df_HON['log_return'] == df_HON['log_return'].min()][['Date']]\n",
    "print(max_HON, min_HON)"
   ]
  },
  {
   "cell_type": "code",
   "execution_count": 67,
   "id": "a18f8451",
   "metadata": {},
   "outputs": [
    {
     "name": "stdout",
     "output_type": "stream",
     "text": [
      "           Date\n",
      "586  2020-03-16            Date\n",
      "590  2020-03-20\n"
     ]
    }
   ],
   "source": [
    "df_JCI =  df[df['company'] == 'JCI']\n",
    "max_JCI = df_JCI[df_JCI['log_return'] == df_JCI['log_return'].max()][['Date']]\n",
    "min_JCI = df_JCI[df_JCI['log_return'] == df_JCI['log_return'].min()][['Date']]\n",
    "print(max_JCI, min_JCI)"
   ]
  },
  {
   "cell_type": "code",
   "execution_count": 72,
   "id": "c52fcff6",
   "metadata": {},
   "outputs": [
    {
     "name": "stdout",
     "output_type": "stream",
     "text": [
      "           Date\n",
      "585  2020-03-13            Date\n",
      "585  2020-03-13\n"
     ]
    }
   ],
   "source": [
    "df_SCHW = df[df['company'] == 'SCHW']\n",
    "max_SCHW = df_SCHW[df_SCHW['log_return'] == df_SCHW['log_return'].max()][['Date']]\n",
    "min_SCHW = df_SCHW[df_SCHW['log_return'] == df_SCHW['log_return'].max()][['Date']]\n",
    "print(max_SCHW, min_SCHW)"
   ]
  },
  {
   "cell_type": "code",
   "execution_count": 73,
   "id": "b143a01e",
   "metadata": {},
   "outputs": [
    {
     "data": {
      "text/html": [
       "<div>\n",
       "<style scoped>\n",
       "    .dataframe tbody tr th:only-of-type {\n",
       "        vertical-align: middle;\n",
       "    }\n",
       "\n",
       "    .dataframe tbody tr th {\n",
       "        vertical-align: top;\n",
       "    }\n",
       "\n",
       "    .dataframe thead th {\n",
       "        text-align: right;\n",
       "    }\n",
       "</style>\n",
       "<table border=\"1\" class=\"dataframe\">\n",
       "  <thead>\n",
       "    <tr style=\"text-align: right;\">\n",
       "      <th></th>\n",
       "      <th>Date</th>\n",
       "      <th>High</th>\n",
       "      <th>Low</th>\n",
       "      <th>Open</th>\n",
       "      <th>Close</th>\n",
       "      <th>Volume</th>\n",
       "      <th>Adj Close</th>\n",
       "      <th>company</th>\n",
       "      <th>log_return</th>\n",
       "      <th>gain%</th>\n",
       "      <th>return</th>\n",
       "    </tr>\n",
       "  </thead>\n",
       "  <tbody>\n",
       "    <tr>\n",
       "      <th>0</th>\n",
       "      <td>2017-11-13</td>\n",
       "      <td>102.510002</td>\n",
       "      <td>100.120003</td>\n",
       "      <td>101.889999</td>\n",
       "      <td>102.370003</td>\n",
       "      <td>274300.0</td>\n",
       "      <td>102.370003</td>\n",
       "      <td>EPAM</td>\n",
       "      <td>0.004700</td>\n",
       "      <td>0.004711</td>\n",
       "      <td>0.480003</td>\n",
       "    </tr>\n",
       "    <tr>\n",
       "      <th>1</th>\n",
       "      <td>2017-11-14</td>\n",
       "      <td>103.070000</td>\n",
       "      <td>101.510002</td>\n",
       "      <td>101.800003</td>\n",
       "      <td>102.610001</td>\n",
       "      <td>178200.0</td>\n",
       "      <td>102.610001</td>\n",
       "      <td>EPAM</td>\n",
       "      <td>0.007925</td>\n",
       "      <td>0.007957</td>\n",
       "      <td>0.809998</td>\n",
       "    </tr>\n",
       "    <tr>\n",
       "      <th>2</th>\n",
       "      <td>2017-11-15</td>\n",
       "      <td>103.389999</td>\n",
       "      <td>100.879997</td>\n",
       "      <td>102.709999</td>\n",
       "      <td>102.629997</td>\n",
       "      <td>246600.0</td>\n",
       "      <td>102.629997</td>\n",
       "      <td>EPAM</td>\n",
       "      <td>-0.000779</td>\n",
       "      <td>-0.000779</td>\n",
       "      <td>-0.080002</td>\n",
       "    </tr>\n",
       "    <tr>\n",
       "      <th>3</th>\n",
       "      <td>2017-11-16</td>\n",
       "      <td>104.320000</td>\n",
       "      <td>103.160004</td>\n",
       "      <td>103.230003</td>\n",
       "      <td>103.610001</td>\n",
       "      <td>211100.0</td>\n",
       "      <td>103.610001</td>\n",
       "      <td>EPAM</td>\n",
       "      <td>0.003674</td>\n",
       "      <td>0.003681</td>\n",
       "      <td>0.379997</td>\n",
       "    </tr>\n",
       "    <tr>\n",
       "      <th>4</th>\n",
       "      <td>2017-11-17</td>\n",
       "      <td>104.209999</td>\n",
       "      <td>102.489998</td>\n",
       "      <td>103.160004</td>\n",
       "      <td>103.699997</td>\n",
       "      <td>183400.0</td>\n",
       "      <td>103.699997</td>\n",
       "      <td>EPAM</td>\n",
       "      <td>0.005221</td>\n",
       "      <td>0.005235</td>\n",
       "      <td>0.539993</td>\n",
       "    </tr>\n",
       "  </tbody>\n",
       "</table>\n",
       "</div>"
      ],
      "text/plain": [
       "         Date        High         Low        Open       Close    Volume  \\\n",
       "0  2017-11-13  102.510002  100.120003  101.889999  102.370003  274300.0   \n",
       "1  2017-11-14  103.070000  101.510002  101.800003  102.610001  178200.0   \n",
       "2  2017-11-15  103.389999  100.879997  102.709999  102.629997  246600.0   \n",
       "3  2017-11-16  104.320000  103.160004  103.230003  103.610001  211100.0   \n",
       "4  2017-11-17  104.209999  102.489998  103.160004  103.699997  183400.0   \n",
       "\n",
       "    Adj Close company  log_return     gain%    return  \n",
       "0  102.370003    EPAM    0.004700  0.004711  0.480003  \n",
       "1  102.610001    EPAM    0.007925  0.007957  0.809998  \n",
       "2  102.629997    EPAM   -0.000779 -0.000779 -0.080002  \n",
       "3  103.610001    EPAM    0.003674  0.003681  0.379997  \n",
       "4  103.699997    EPAM    0.005221  0.005235  0.539993  "
      ]
     },
     "execution_count": 73,
     "metadata": {},
     "output_type": "execute_result"
    }
   ],
   "source": [
    "df.head()"
   ]
  },
  {
   "cell_type": "markdown",
   "id": "a9964df2",
   "metadata": {},
   "source": [
    "# 5) \n"
   ]
  },
  {
   "cell_type": "markdown",
   "id": "1ea1162e",
   "metadata": {},
   "source": [
    "# 6)"
   ]
  },
  {
   "cell_type": "code",
   "execution_count": 82,
   "id": "9f763899",
   "metadata": {},
   "outputs": [
    {
     "name": "stdout",
     "output_type": "stream",
     "text": [
      "-21.759269714355852 -27.634315490723836 15.54991340637197 3.2899284362792187\n"
     ]
    }
   ],
   "source": [
    "epam = df_EPAM['return'].sum()\n",
    "hon = df_HON['return'].sum()\n",
    "jci = df_JCI['return'].sum()\n",
    "schw = df_SCHW['return'].sum()\n",
    "print(epam, hon, jci, schw)\n",
    "#SOOO, JCI IT IS -- 15.54991340637197"
   ]
  },
  {
   "cell_type": "markdown",
   "id": "cff5d64f",
   "metadata": {},
   "source": []
  },
  {
   "cell_type": "markdown",
   "id": "a2a37a54",
   "metadata": {},
   "source": [
    "# 7) "
   ]
  },
  {
   "cell_type": "code",
   "execution_count": 97,
   "id": "0fe80c60",
   "metadata": {},
   "outputs": [
    {
     "data": {
      "text/plain": [
       "<AxesSubplot:>"
      ]
     },
     "execution_count": 97,
     "metadata": {},
     "output_type": "execute_result"
    },
    {
     "data": {
      "image/png": "[encoded data removed]",
      "text/plain": [
       "<Figure size 432x288 with 1 Axes>"
      ]
     },
     "metadata": {
      "needs_background": "light"
     },
     "output_type": "display_data"
    }
   ],
   "source": [
    "df_EPAM['log_return'].hist(bins = 20)\n",
    "df_HON['log_return'].hist(bins = 20, alpha = 0.8, color = 'green')\n",
    "df_JCI['log_return'].hist(bins = 20, alpha = 0.8, color = 'orange')\n",
    "df_SCHW['log_return'].hist(bins = 20, alpha = 0.8, color = 'black')\n"
   ]
  },
  {
   "cell_type": "code",
   "execution_count": 90,
   "id": "815fdd94",
   "metadata": {},
   "outputs": [
    {
     "data": {
      "image/png": "[encoded data removed]",
      "text/plain": [
       "<Figure size 432x288 with 1 Axes>"
      ]
     },
     "metadata": {
      "needs_background": "light"
     },
     "output_type": "display_data"
    },
    {
     "data": {
      "text/plain": [
       "<Figure size 1440x1440 with 0 Axes>"
      ]
     },
     "metadata": {},
     "output_type": "display_data"
    }
   ],
   "source": [
    "#or is this one better? i think no\n",
    "\n",
    "plt.plot(df_EPAM['Date'], df_EPAM['log_return'])\n",
    "plt.plot(df_HON['Date'], df_HON['log_return'])\n",
    "plt.plot(df_JCI['Date'], df_JCI['log_return'])\n",
    "plt.plot(df_SCHW['Date'], df_SCHW['log_return'])\n",
    "fig = plt.figure(figsize = (20, 20))\n",
    "plt.show()\n"
   ]
  },
  {
   "cell_type": "code",
   "execution_count": null,
   "id": "0e172587",
   "metadata": {},
   "outputs": [],
   "source": []
  }
 ],
 "metadata": {
  "kernelspec": {
   "display_name": "Python 3 (ipykernel)",
   "language": "python",
   "name": "python3"
  },
  "language_info": {
   "codemirror_mode": {
    "name": "ipython",
    "version": 3
   },
   "file_extension": ".py",
   "mimetype": "text/x-python",
   "name": "python",
   "nbconvert_exporter": "python",
   "pygments_lexer": "ipython3",
   "version": "3.9.12"
  }
 },
 "nbformat": 4,
 "nbformat_minor": 5
}
